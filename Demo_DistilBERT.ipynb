{
  "nbformat": 4,
  "nbformat_minor": 0,
  "metadata": {
    "colab": {
      "provenance": [],
      "mount_file_id": "1A70ysXaeXS0yQXM7MtYc21ZfPP7RmjMf",
      "authorship_tag": "ABX9TyMYCBEBeb++JS85Rxx8qneM",
      "include_colab_link": true
    },
    "kernelspec": {
      "name": "python3",
      "display_name": "Python 3"
    },
    "language_info": {
      "name": "python"
    }
  },
  "cells": [
    {
      "cell_type": "markdown",
      "metadata": {
        "id": "view-in-github",
        "colab_type": "text"
      },
      "source": [
        "<a href=\"https://colab.research.google.com/github/trsekhar123/DistilBERTExplainer/blob/main/Demo_DistilBERT.ipynb\" target=\"_parent\"><img src=\"https://colab.research.google.com/assets/colab-badge.svg\" alt=\"Open In Colab\"/></a>"
      ]
    },
    {
      "cell_type": "code",
      "execution_count": null,
      "metadata": {
        "colab": {
          "base_uri": "https://localhost:8080/"
        },
        "id": "qEoTOh1grEKF",
        "outputId": "79b06d6d-72e1-43f6-9747-d8c6633d1465"
      },
      "outputs": [
        {
          "output_type": "stream",
          "name": "stdout",
          "text": [
            "Looking in indexes: https://pypi.org/simple, https://us-python.pkg.dev/colab-wheels/public/simple/, https://download.pytorch.org/whl/cu116\n",
            "Requirement already satisfied: torch in /usr/local/lib/python3.8/dist-packages (1.13.0+cu116)\n",
            "Requirement already satisfied: torchvision in /usr/local/lib/python3.8/dist-packages (0.14.0+cu116)\n",
            "Requirement already satisfied: torchaudio in /usr/local/lib/python3.8/dist-packages (0.13.0+cu116)\n",
            "Requirement already satisfied: typing-extensions in /usr/local/lib/python3.8/dist-packages (from torch) (4.4.0)\n",
            "Requirement already satisfied: pillow!=8.3.*,>=5.3.0 in /usr/local/lib/python3.8/dist-packages (from torchvision) (7.1.2)\n",
            "Requirement already satisfied: numpy in /usr/local/lib/python3.8/dist-packages (from torchvision) (1.21.6)\n",
            "Requirement already satisfied: requests in /usr/local/lib/python3.8/dist-packages (from torchvision) (2.23.0)\n",
            "Requirement already satisfied: urllib3!=1.25.0,!=1.25.1,<1.26,>=1.21.1 in /usr/local/lib/python3.8/dist-packages (from requests->torchvision) (1.24.3)\n",
            "Requirement already satisfied: idna<3,>=2.5 in /usr/local/lib/python3.8/dist-packages (from requests->torchvision) (2.10)\n",
            "Requirement already satisfied: certifi>=2017.4.17 in /usr/local/lib/python3.8/dist-packages (from requests->torchvision) (2022.9.24)\n",
            "Requirement already satisfied: chardet<4,>=3.0.2 in /usr/local/lib/python3.8/dist-packages (from requests->torchvision) (3.0.4)\n"
          ]
        }
      ],
      "source": [
        "!pip3 install torch torchvision torchaudio --extra-index-url https://download.pytorch.org/whl/cu116\n",
        "!pip install transformers>=2.0"
      ]
    },
    {
      "cell_type": "code",
      "source": [
        "!git clone https://github.com/trsekhar123/DistilBERTExplainer.git"
      ],
      "metadata": {
        "colab": {
          "base_uri": "https://localhost:8080/"
        },
        "id": "6ZkkOp9atC2F",
        "outputId": "b0a2e77f-26c0-4500-d761-16e35605975b"
      },
      "execution_count": null,
      "outputs": [
        {
          "output_type": "stream",
          "name": "stdout",
          "text": [
            "fatal: destination path 'DistilBERTExplainer' already exists and is not an empty directory.\n"
          ]
        }
      ]
    },
    {
      "cell_type": "code",
      "source": [
        "!pip install /content/DistilBERTExplainer"
      ],
      "metadata": {
        "colab": {
          "base_uri": "https://localhost:8080/"
        },
        "id": "_DPWM59ptPOT",
        "outputId": "8aa2b82e-3771-41f4-8f39-7c2c7bb51fd6"
      },
      "execution_count": null,
      "outputs": [
        {
          "output_type": "stream",
          "name": "stdout",
          "text": [
            "Looking in indexes: https://pypi.org/simple, https://us-python.pkg.dev/colab-wheels/public/simple/\n",
            "Processing ./DistilBERTExplainer\n",
            "\u001b[33m  DEPRECATION: A future pip version will change local packages to be built in-place without first copying to a temporary directory. We recommend you use --use-feature=in-tree-build to test your packages with this new behavior before it becomes the default.\n",
            "   pip 21.3 will remove support for this functionality. You can find discussion regarding this at https://github.com/pypa/pip/issues/7555.\u001b[0m\n",
            "Building wheels for collected packages: explain-lib\n",
            "  Building wheel for explain-lib (setup.py) ... \u001b[?25l\u001b[?25hdone\n",
            "  Created wheel for explain-lib: filename=explain_lib-1.0-py3-none-any.whl size=10069 sha256=35b296ad3cda948218dc89c6c3c9a968c19f1d1bead8fffb80d331f914d3b6b6\n",
            "  Stored in directory: /tmp/pip-ephem-wheel-cache-b9f616vr/wheels/f2/9e/71/0b758d83786d12f003c28b758c17e574aa8d07b16b9d9bb0d2\n",
            "Successfully built explain-lib\n",
            "Installing collected packages: explain-lib\n",
            "  Attempting uninstall: explain-lib\n",
            "    Found existing installation: explain-lib 1.0\n",
            "    Uninstalling explain-lib-1.0:\n",
            "      Successfully uninstalled explain-lib-1.0\n",
            "Successfully installed explain-lib-1.0\n"
          ]
        }
      ]
    },
    {
      "cell_type": "code",
      "source": [
        "import pandas as pd\n",
        "df = pd.read_csv('https://github.com/clairett/pytorch-sentiment-classification/raw/master/data/SST2/train.tsv', delimiter='\\t', header=None)\n",
        "batch_1 = df[:100]\n",
        "batch_1[1].value_counts()"
      ],
      "metadata": {
        "id": "Y2eFVdkfv78e",
        "colab": {
          "base_uri": "https://localhost:8080/"
        },
        "outputId": "386cf7d6-b428-4fe6-f4e2-bcc2d6167193"
      },
      "execution_count": null,
      "outputs": [
        {
          "output_type": "execute_result",
          "data": {
            "text/plain": [
              "1    60\n",
              "0    40\n",
              "Name: 1, dtype: int64"
            ]
          },
          "metadata": {},
          "execution_count": 14
        }
      ]
    },
    {
      "cell_type": "code",
      "source": [
        "import torch\n",
        "import torch.nn as nn\n",
        "import torch.nn.functional as F"
      ],
      "metadata": {
        "id": "CjPoDiT6vwTZ"
      },
      "execution_count": null,
      "outputs": []
    },
    {
      "cell_type": "code",
      "source": [
        "from explain_lib.distilbert_utils import DistilBertForSequenceClassification\n",
        "from transformers import DistilBertTokenizer\n",
        "tokenizer = DistilBertTokenizer.from_pretrained('distilbert-base-uncased')\n",
        "model = DistilBertForSequenceClassification.from_pretrained('distilbert-base-uncased',output_hidden_states=True, output_attentions=True)\n",
        "input_ids = torch.tensor(tokenizer.encode(\"Hello, my dog is cute\")).unsqueeze(0)  # Batch size 1\n",
        "labels = torch.tensor([1]).unsqueeze(0)  # Batch size 1\n",
        "outputs = model(input_ids)\n",
        "# loss, logits = outputs[:2]"
      ],
      "metadata": {
        "colab": {
          "base_uri": "https://localhost:8080/"
        },
        "id": "a890vCElt6pk",
        "outputId": "d3c48ad7-5674-40e7-dbc8-e982a41e3642"
      },
      "execution_count": null,
      "outputs": [
        {
          "output_type": "stream",
          "name": "stderr",
          "text": [
            "Some weights of the model checkpoint at distilbert-base-uncased were not used when initializing DistilBertForSequenceClassification: ['vocab_layer_norm.bias', 'vocab_transform.bias', 'vocab_projector.weight', 'vocab_layer_norm.weight', 'vocab_transform.weight', 'vocab_projector.bias']\n",
            "- This IS expected if you are initializing DistilBertForSequenceClassification from the checkpoint of a model trained on another task or with another architecture (e.g. initializing a BertForSequenceClassification model from a BertForPreTraining model).\n",
            "- This IS NOT expected if you are initializing DistilBertForSequenceClassification from the checkpoint of a model that you expect to be exactly identical (initializing a BertForSequenceClassification model from a BertForSequenceClassification model).\n",
            "Some weights of DistilBertForSequenceClassification were not initialized from the model checkpoint at distilbert-base-uncased and are newly initialized: ['output.0.bias', 'output.0.weight']\n",
            "You should probably TRAIN this model on a down-stream task to be able to use it for predictions and inference.\n"
          ]
        }
      ]
    },
    {
      "cell_type": "code",
      "source": [
        "eval=df.iloc[100:105].reset_index(drop=True)"
      ],
      "metadata": {
        "id": "I4Ar-B-4uJja"
      },
      "execution_count": null,
      "outputs": []
    },
    {
      "cell_type": "code",
      "source": [
        "model"
      ],
      "metadata": {
        "colab": {
          "base_uri": "https://localhost:8080/"
        },
        "id": "Ah6TZBpaVLTi",
        "outputId": "1450278e-22f2-47e0-d7d9-43e662b4bd30"
      },
      "execution_count": null,
      "outputs": [
        {
          "output_type": "execute_result",
          "data": {
            "text/plain": [
              "DistilBertForSequenceClassification(\n",
              "  (distilbert): DistilBertModel(\n",
              "    (embeddings): Embeddings(\n",
              "      (word_embeddings): Embedding(30522, 768, padding_idx=0)\n",
              "      (position_embeddings): Embedding(512, 768)\n",
              "      (LayerNorm): LayerNorm((768,), eps=1e-12, elementwise_affine=True)\n",
              "      (dropout): Dropout(p=0.1, inplace=False)\n",
              "      (add1): Add()\n",
              "      (add2): Add()\n",
              "    )\n",
              "    (transformer): Transformer(\n",
              "      (layer): ModuleList(\n",
              "        (0): TransformerBlock(\n",
              "          (dropout): Dropout(p=0.1, inplace=False)\n",
              "          (attention): MultiHeadSelfAttention(\n",
              "            (dropout): Dropout(p=0.1, inplace=False)\n",
              "            (q_lin): Linear(in_features=768, out_features=768, bias=True)\n",
              "            (k_lin): Linear(in_features=768, out_features=768, bias=True)\n",
              "            (v_lin): Linear(in_features=768, out_features=768, bias=True)\n",
              "            (out_lin): Linear(in_features=768, out_features=768, bias=True)\n",
              "            (matmul1): MatMul()\n",
              "            (matmul2): MatMul()\n",
              "            (softmax): Softmax(dim=-1)\n",
              "            (add): Add()\n",
              "            (mul): Mul()\n",
              "            (clone): Clone()\n",
              "          )\n",
              "          (sa_layer_norm): LayerNorm((768,), eps=1e-12, elementwise_affine=True)\n",
              "          (ffn): FFN(\n",
              "            (dropout): Dropout(p=0.1, inplace=False)\n",
              "            (lin1): Linear(in_features=768, out_features=3072, bias=True)\n",
              "            (lin2): Linear(in_features=3072, out_features=768, bias=True)\n",
              "          )\n",
              "          (output_layer_norm): LayerNorm((768,), eps=1e-12, elementwise_affine=True)\n",
              "          (add1): Add()\n",
              "          (add2): Add()\n",
              "          (add3): Add()\n",
              "        )\n",
              "        (1): TransformerBlock(\n",
              "          (dropout): Dropout(p=0.1, inplace=False)\n",
              "          (attention): MultiHeadSelfAttention(\n",
              "            (dropout): Dropout(p=0.1, inplace=False)\n",
              "            (q_lin): Linear(in_features=768, out_features=768, bias=True)\n",
              "            (k_lin): Linear(in_features=768, out_features=768, bias=True)\n",
              "            (v_lin): Linear(in_features=768, out_features=768, bias=True)\n",
              "            (out_lin): Linear(in_features=768, out_features=768, bias=True)\n",
              "            (matmul1): MatMul()\n",
              "            (matmul2): MatMul()\n",
              "            (softmax): Softmax(dim=-1)\n",
              "            (add): Add()\n",
              "            (mul): Mul()\n",
              "            (clone): Clone()\n",
              "          )\n",
              "          (sa_layer_norm): LayerNorm((768,), eps=1e-12, elementwise_affine=True)\n",
              "          (ffn): FFN(\n",
              "            (dropout): Dropout(p=0.1, inplace=False)\n",
              "            (lin1): Linear(in_features=768, out_features=3072, bias=True)\n",
              "            (lin2): Linear(in_features=3072, out_features=768, bias=True)\n",
              "          )\n",
              "          (output_layer_norm): LayerNorm((768,), eps=1e-12, elementwise_affine=True)\n",
              "          (add1): Add()\n",
              "          (add2): Add()\n",
              "          (add3): Add()\n",
              "        )\n",
              "        (2): TransformerBlock(\n",
              "          (dropout): Dropout(p=0.1, inplace=False)\n",
              "          (attention): MultiHeadSelfAttention(\n",
              "            (dropout): Dropout(p=0.1, inplace=False)\n",
              "            (q_lin): Linear(in_features=768, out_features=768, bias=True)\n",
              "            (k_lin): Linear(in_features=768, out_features=768, bias=True)\n",
              "            (v_lin): Linear(in_features=768, out_features=768, bias=True)\n",
              "            (out_lin): Linear(in_features=768, out_features=768, bias=True)\n",
              "            (matmul1): MatMul()\n",
              "            (matmul2): MatMul()\n",
              "            (softmax): Softmax(dim=-1)\n",
              "            (add): Add()\n",
              "            (mul): Mul()\n",
              "            (clone): Clone()\n",
              "          )\n",
              "          (sa_layer_norm): LayerNorm((768,), eps=1e-12, elementwise_affine=True)\n",
              "          (ffn): FFN(\n",
              "            (dropout): Dropout(p=0.1, inplace=False)\n",
              "            (lin1): Linear(in_features=768, out_features=3072, bias=True)\n",
              "            (lin2): Linear(in_features=3072, out_features=768, bias=True)\n",
              "          )\n",
              "          (output_layer_norm): LayerNorm((768,), eps=1e-12, elementwise_affine=True)\n",
              "          (add1): Add()\n",
              "          (add2): Add()\n",
              "          (add3): Add()\n",
              "        )\n",
              "        (3): TransformerBlock(\n",
              "          (dropout): Dropout(p=0.1, inplace=False)\n",
              "          (attention): MultiHeadSelfAttention(\n",
              "            (dropout): Dropout(p=0.1, inplace=False)\n",
              "            (q_lin): Linear(in_features=768, out_features=768, bias=True)\n",
              "            (k_lin): Linear(in_features=768, out_features=768, bias=True)\n",
              "            (v_lin): Linear(in_features=768, out_features=768, bias=True)\n",
              "            (out_lin): Linear(in_features=768, out_features=768, bias=True)\n",
              "            (matmul1): MatMul()\n",
              "            (matmul2): MatMul()\n",
              "            (softmax): Softmax(dim=-1)\n",
              "            (add): Add()\n",
              "            (mul): Mul()\n",
              "            (clone): Clone()\n",
              "          )\n",
              "          (sa_layer_norm): LayerNorm((768,), eps=1e-12, elementwise_affine=True)\n",
              "          (ffn): FFN(\n",
              "            (dropout): Dropout(p=0.1, inplace=False)\n",
              "            (lin1): Linear(in_features=768, out_features=3072, bias=True)\n",
              "            (lin2): Linear(in_features=3072, out_features=768, bias=True)\n",
              "          )\n",
              "          (output_layer_norm): LayerNorm((768,), eps=1e-12, elementwise_affine=True)\n",
              "          (add1): Add()\n",
              "          (add2): Add()\n",
              "          (add3): Add()\n",
              "        )\n",
              "        (4): TransformerBlock(\n",
              "          (dropout): Dropout(p=0.1, inplace=False)\n",
              "          (attention): MultiHeadSelfAttention(\n",
              "            (dropout): Dropout(p=0.1, inplace=False)\n",
              "            (q_lin): Linear(in_features=768, out_features=768, bias=True)\n",
              "            (k_lin): Linear(in_features=768, out_features=768, bias=True)\n",
              "            (v_lin): Linear(in_features=768, out_features=768, bias=True)\n",
              "            (out_lin): Linear(in_features=768, out_features=768, bias=True)\n",
              "            (matmul1): MatMul()\n",
              "            (matmul2): MatMul()\n",
              "            (softmax): Softmax(dim=-1)\n",
              "            (add): Add()\n",
              "            (mul): Mul()\n",
              "            (clone): Clone()\n",
              "          )\n",
              "          (sa_layer_norm): LayerNorm((768,), eps=1e-12, elementwise_affine=True)\n",
              "          (ffn): FFN(\n",
              "            (dropout): Dropout(p=0.1, inplace=False)\n",
              "            (lin1): Linear(in_features=768, out_features=3072, bias=True)\n",
              "            (lin2): Linear(in_features=3072, out_features=768, bias=True)\n",
              "          )\n",
              "          (output_layer_norm): LayerNorm((768,), eps=1e-12, elementwise_affine=True)\n",
              "          (add1): Add()\n",
              "          (add2): Add()\n",
              "          (add3): Add()\n",
              "        )\n",
              "        (5): TransformerBlock(\n",
              "          (dropout): Dropout(p=0.1, inplace=False)\n",
              "          (attention): MultiHeadSelfAttention(\n",
              "            (dropout): Dropout(p=0.1, inplace=False)\n",
              "            (q_lin): Linear(in_features=768, out_features=768, bias=True)\n",
              "            (k_lin): Linear(in_features=768, out_features=768, bias=True)\n",
              "            (v_lin): Linear(in_features=768, out_features=768, bias=True)\n",
              "            (out_lin): Linear(in_features=768, out_features=768, bias=True)\n",
              "            (matmul1): MatMul()\n",
              "            (matmul2): MatMul()\n",
              "            (softmax): Softmax(dim=-1)\n",
              "            (add): Add()\n",
              "            (mul): Mul()\n",
              "            (clone): Clone()\n",
              "          )\n",
              "          (sa_layer_norm): LayerNorm((768,), eps=1e-12, elementwise_affine=True)\n",
              "          (ffn): FFN(\n",
              "            (dropout): Dropout(p=0.1, inplace=False)\n",
              "            (lin1): Linear(in_features=768, out_features=3072, bias=True)\n",
              "            (lin2): Linear(in_features=3072, out_features=768, bias=True)\n",
              "          )\n",
              "          (output_layer_norm): LayerNorm((768,), eps=1e-12, elementwise_affine=True)\n",
              "          (add1): Add()\n",
              "          (add2): Add()\n",
              "          (add3): Add()\n",
              "        )\n",
              "      )\n",
              "      (addh): ModuleList(\n",
              "        (0): Add()\n",
              "        (1): Add()\n",
              "        (2): Add()\n",
              "        (3): Add()\n",
              "        (4): Add()\n",
              "        (5): Add()\n",
              "      )\n",
              "      (adda): ModuleList(\n",
              "        (0): Add()\n",
              "        (1): Add()\n",
              "        (2): Add()\n",
              "        (3): Add()\n",
              "        (4): Add()\n",
              "        (5): Add()\n",
              "      )\n",
              "    )\n",
              "    (add1): Add()\n",
              "  )\n",
              "  (output): Sequential(\n",
              "    (0): Linear(in_features=768, out_features=2, bias=True)\n",
              "  )\n",
              ")"
            ]
          },
          "metadata": {},
          "execution_count": 55
        }
      ]
    },
    {
      "cell_type": "markdown",
      "source": [
        "### Model Training"
      ],
      "metadata": {
        "id": "h5mRs7oVYJX5"
      }
    },
    {
      "cell_type": "code",
      "source": [
        "from tqdm import tqdm\n",
        "import os.path as op\n",
        "epochs = 2\n",
        "device = torch.device('cuda' if torch.cuda.is_available() else 'cpu')\n",
        "criterion = nn.CrossEntropyLoss()\n",
        "from transformers import AdamW\n",
        "\n",
        "# activate training mode\n",
        "model.train()\n",
        "# initialize optimizer\n",
        "optim = AdamW(model.parameters(), lr=1e-4)\n",
        "\n",
        "for epoch in range(epochs):\n",
        "    # setup loop with TQDM and dataloader\n",
        "    for step, (inputs, labels) in enumerate(batch_1[[0,1]].values):\n",
        "      input_ids = torch.tensor(tokenizer.encode(inputs)).unsqueeze(0)\n",
        "      labels = torch.tensor([labels]).unsqueeze(0).to(device)\n",
        "      # initialize calculated gradients (from prev step)\n",
        "      optim.zero_grad()\n",
        "      # pull all tensor batches required for training\n",
        "      # process\n",
        "      outputs,attention_weights,hidden_states = model(input_ids)\n",
        "      output_final = (F.softmax(outputs).detach().numpy()[0][1])\n",
        "      # extract loss\n",
        "      loss=criterion(F.softmax(outputs),labels[0])\n",
        "      # loss = outputs.loss\n",
        "      # calculate loss for every parameter that needs grad update\n",
        "      loss.backward()\n",
        "      # update parameters\n",
        "      optim.step()\n",
        "      # print relevant info to progress bar\n",
        "      # loop.set_description(f'Epoch {epoch}')\n",
        "      # loop.set_postfix(loss=loss.item())\n",
        "\n",
        "      torch.save({'model': model.state_dict(),'attentions':attention_weights},\n",
        "                        op.join(f\"fold{epoch}_best.pth\"))"
      ],
      "metadata": {
        "id": "DgEnuZU-vuY9"
      },
      "execution_count": null,
      "outputs": []
    },
    {
      "cell_type": "code",
      "source": [
        "if torch.__version__ >= '1.7.0':\n",
        "    norm_fn = torch.linalg.norm\n",
        "else:\n",
        "    norm_fn = torch.norm"
      ],
      "metadata": {
        "id": "rki7iqcuV-Ym"
      },
      "execution_count": null,
      "outputs": []
    },
    {
      "cell_type": "code",
      "source": [],
      "metadata": {
        "id": "g0ynlS66WECD"
      },
      "execution_count": null,
      "outputs": []
    },
    {
      "cell_type": "markdown",
      "source": [
        "## AGrad"
      ],
      "metadata": {
        "id": "KbrhDN3uWHRx"
      }
    },
    {
      "cell_type": "code",
      "source": [
        "import seaborn as sns\n",
        "import matplotlib\n",
        "import matplotlib.pyplot as plt\n",
        "import seaborn\n",
        "\n",
        "output_final = []\n",
        "\n",
        "for text, label in eval.iloc[:6][[0,1]].values:\n",
        "  input_ids = torch.tensor(tokenizer.encode(text)).unsqueeze(0)  # Batch size 1\n",
        "  labels = torch.tensor([label]).unsqueeze(0)  # Batch size 1\n",
        "  outputs = model(input_ids)\n",
        "  output_final.append(F.softmax(outputs[0]).detach().numpy()[0][1])\n",
        "\n",
        "  hidden_states_new=torch.stack(outputs[2]).squeeze()\n",
        "\n",
        "  att_weights_new=torch.stack(outputs[1]).squeeze()\n",
        "\n",
        "  attent_hidden=torch.einsum(\"lass,lsh->lash\",att_weights_new,hidden_states_new[:6])\n",
        "  plt.figure() #this creates a new figure on which your plot will appear\n",
        "  # seaborn.countplot(use_df);bbb\n",
        "  sns.heatmap(((attent_hidden.sum(dim=-1).sum(dim=1))/norm_fn(attent_hidden)).detach().numpy()[:,:len(input_ids[0])],xticklabels=tokenizer.convert_ids_to_tokens(input_ids[0])[:len(input_ids[0])])\n",
        "  break"
      ],
      "metadata": {
        "colab": {
          "base_uri": "https://localhost:8080/",
          "height": 321
        },
        "id": "btuWn5G2RPrT",
        "outputId": "d737b3a9-fc0d-4c7e-aabf-35417b77f5f3"
      },
      "execution_count": null,
      "outputs": [
        {
          "output_type": "stream",
          "name": "stderr",
          "text": [
            "<ipython-input-23-1646916c946b>:12: UserWarning: Implicit dimension choice for softmax has been deprecated. Change the call to include dim=X as an argument.\n",
            "  output_final.append(F.softmax(outputs[0]).detach().numpy()[0][1])\n"
          ]
        },
        {
          "output_type": "display_data",
          "data": {
            "text/plain": [
              "<Figure size 432x288 with 2 Axes>"
            ],
            "image/png": "[encoded data removed]"
          },
          "metadata": {
            "needs_background": "light"
          }
        }
      ]
    },
    {
      "cell_type": "code",
      "source": [],
      "metadata": {
        "id": "7O5pFrc8WQET"
      },
      "execution_count": null,
      "outputs": []
    },
    {
      "cell_type": "markdown",
      "source": [
        "## RePAGrad"
      ],
      "metadata": {
        "id": "RQzqRQIVWQ66"
      }
    },
    {
      "cell_type": "code",
      "source": [
        "\n",
        "for text, label in eval.iloc[:6][[0,1]].values:\n",
        "  input_ids = torch.tensor(tokenizer.encode(text)).unsqueeze(0)  # Batch size 1\n",
        "  labels = torch.tensor([label]).unsqueeze(0)  # Batch size 1\n",
        "  outputs = model(input_ids)\n",
        "  cam2=model.distilbert.transformer.relprop(outputs[2][0],alpha=0.3)\n",
        "  plt.figure()\n",
        "  sns.heatmap((cam2.sum(-1)/norm_fn(cam2)).detach().numpy(),xticklabels=tokenizer.convert_ids_to_tokens(input_ids[0])[:len(input_ids[0])])\n",
        "  break"
      ],
      "metadata": {
        "colab": {
          "base_uri": "https://localhost:8080/",
          "height": 282
        },
        "id": "qHNpfHGfV6ln",
        "outputId": "385ec432-f8fa-4f54-b933-4a13453e6f31"
      },
      "execution_count": null,
      "outputs": [
        {
          "output_type": "display_data",
          "data": {
            "text/plain": [
              "<Figure size 432x288 with 2 Axes>"
            ],
            "image/png": "[encoded data removed]"
          },
          "metadata": {
            "needs_background": "light"
          }
        }
      ]
    },
    {
      "cell_type": "code",
      "source": [
        "for text, label in eval.iloc[0:2][[0,1]].values:\n",
        "  input_ids = torch.tensor(tokenizer.encode(text)).unsqueeze(0)  # Batch size 1\n",
        "  labels = torch.tensor([label]).unsqueeze(0)  # Batch size 1\n",
        "  outputs = model(input_ids)\n",
        "  cam2=model.relprop(F.softmax(outputs[0]),alpha=0.3)[0]\n",
        "  plt.figure()\n",
        "  sns.heatmap((cam2.sum(-1)/norm_fn(cam2)).detach().numpy(),xticklabels=tokenizer.convert_ids_to_tokens(input_ids[0])[:len(input_ids[0])])\n",
        "  break"
      ],
      "metadata": {
        "colab": {
          "base_uri": "https://localhost:8080/",
          "height": 351
        },
        "id": "CV-D0XMwWT3D",
        "outputId": "b93628fb-a208-447e-fd5e-428efc548dad"
      },
      "execution_count": null,
      "outputs": [
        {
          "output_type": "stream",
          "name": "stderr",
          "text": [
            "<ipython-input-27-546c04fb9722>:5: UserWarning: Implicit dimension choice for softmax has been deprecated. Change the call to include dim=X as an argument.\n",
            "  cam2=model.relprop(F.softmax(outputs[0]),alpha=0.3)[0]\n"
          ]
        },
        {
          "output_type": "stream",
          "name": "stdout",
          "text": [
            "tensor([[0.0094, 0.9906]], grad_fn=<SoftmaxBackward0>)\n",
            "torch.Size([1, 768])\n"
          ]
        },
        {
          "output_type": "display_data",
          "data": {
            "text/plain": [
              "<Figure size 432x288 with 2 Axes>"
            ],
            "image/png": "[encoded data removed]"
          },
          "metadata": {
            "needs_background": "light"
          }
        }
      ]
    },
    {
      "cell_type": "markdown",
      "source": [
        "#    Validation of results before and after LRP - Save the preditions scores before and after LRP"
      ],
      "metadata": {
        "id": "Koh3PZMXX6kI"
      }
    },
    {
      "cell_type": "code",
      "source": [
        "prediction_before = []\n",
        "prediction_after = []\n",
        "for text, label in eval[[0,1]].values:\n",
        "  print(text)\n",
        "  input_ids = torch.tensor(tokenizer.encode(text)).unsqueeze(0)  # Batch size 1\n",
        "  labels = torch.tensor([label]).unsqueeze(0)  # Batch size 1\n",
        "  outputs = model(input_ids)\n",
        "  cam2=model.relprop(F.softmax(outputs[0]),alpha=0.3)[0]\n",
        "  df_attr=pd.DataFrame({'token_ids':input_ids[0].detach().numpy(),'token_text':tokenizer.convert_ids_to_tokens(input_ids[0])[:len(input_ids[0])],'attribution':(cam2.sum(-1)/norm_fn(cam2)).detach().numpy()[0]})\n",
        "  if F.softmax(outputs[0])[0,1]>0.5:\n",
        "    test_tokens=[i for i in df_attr.nlargest(2,'attribution').token_ids.values if i != 101 and i !=102]\n",
        "  else:\n",
        "    test_tokens=[i for i in df_attr.nsmallest(2,'attribution').token_ids.values if i != 101 and i !=102]\n",
        "  df_attr.loc[df_attr.token_ids.isin(test_tokens),'token_ids']=102\n",
        "  outputs2 = model(torch.tensor(df_attr['token_ids']).unsqueeze(0)) \n",
        "  prediction_before.append(F.softmax(outputs[0]).detach().numpy()[0][1])\n",
        "  prediction_after.append(F.softmax(outputs2[0]).detach().numpy()[0][1])"
      ],
      "metadata": {
        "colab": {
          "base_uri": "https://localhost:8080/"
        },
        "id": "xVinLjlnWa7O",
        "outputId": "378c9ce0-28c8-40ea-a578-7eac0ab6ccd7"
      },
      "execution_count": null,
      "outputs": [
        {
          "output_type": "stream",
          "name": "stdout",
          "text": [
            "you can taste it , but there 's no fizz\n"
          ]
        },
        {
          "output_type": "stream",
          "name": "stderr",
          "text": [
            "<ipython-input-43-abca073ee097>:8: UserWarning: Implicit dimension choice for softmax has been deprecated. Change the call to include dim=X as an argument.\n",
            "  cam2=model.relprop(F.softmax(outputs[0]),alpha=0.3)[0]\n",
            "<ipython-input-43-abca073ee097>:10: UserWarning: Implicit dimension choice for softmax has been deprecated. Change the call to include dim=X as an argument.\n",
            "  if F.softmax(outputs[0])[0,1]>0.5:\n"
          ]
        },
        {
          "output_type": "stream",
          "name": "stdout",
          "text": [
            "tensor([[0.0102, 0.9898]], grad_fn=<SoftmaxBackward0>)\n",
            "torch.Size([1, 768])\n"
          ]
        },
        {
          "output_type": "stream",
          "name": "stderr",
          "text": [
            "<ipython-input-43-abca073ee097>:16: UserWarning: Implicit dimension choice for softmax has been deprecated. Change the call to include dim=X as an argument.\n",
            "  prediction_before.append(F.softmax(outputs[0]).detach().numpy()[0][1])\n",
            "<ipython-input-43-abca073ee097>:17: UserWarning: Implicit dimension choice for softmax has been deprecated. Change the call to include dim=X as an argument.\n",
            "  prediction_after.append(F.softmax(outputs2[0]).detach().numpy()[0][1])\n"
          ]
        },
        {
          "output_type": "stream",
          "name": "stdout",
          "text": [
            "a reworking of die hard and cliffhanger but it 's nowhere near as exciting as either\n",
            "tensor([[0.0115, 0.9885]], grad_fn=<SoftmaxBackward0>)\n",
            "torch.Size([1, 768])\n",
            "a moving tale of love and destruction in unexpected places , unexamined lives\n",
            "tensor([[0.0083, 0.9917]], grad_fn=<SoftmaxBackward0>)\n",
            "torch.Size([1, 768])\n",
            "it has more than a few moments that are insightful enough to be fondly remembered in the endlessly challenging maze of moviegoing\n",
            "tensor([[0.0092, 0.9908]], grad_fn=<SoftmaxBackward0>)\n",
            "torch.Size([1, 768])\n",
            "why ?\n",
            "tensor([[0.0125, 0.9875]], grad_fn=<SoftmaxBackward0>)\n",
            "torch.Size([1, 768])\n"
          ]
        }
      ]
    },
    {
      "cell_type": "markdown",
      "source": [
        "#    Validation of results before and after LRP - Save the preditions scores before and after RePAGrad"
      ],
      "metadata": {
        "id": "XWfAMPR2X5vo"
      }
    },
    {
      "cell_type": "code",
      "source": [
        "prediction_before_repa = []\n",
        "prediction_after_repa = []\n",
        "for text, label in eval[[0,1]].values:\n",
        "  print(text)\n",
        "  input_ids = torch.tensor(tokenizer.encode(text)).unsqueeze(0)  # Batch size 1\n",
        "  labels = torch.tensor([label]).unsqueeze(0)  # Batch size 1\n",
        "  outputs = model(input_ids)\n",
        "  cam2=model.distilbert.transformer.relprop(outputs[2][0],alpha=0.3)\n",
        "  df_attr=pd.DataFrame({'token_ids':input_ids[0].detach().numpy(),'token_text':tokenizer.convert_ids_to_tokens(input_ids[0])[:len(input_ids[0])],'attribution':(cam2.sum(-1)/norm_fn(cam2)).detach().numpy()[0]})\n",
        "  if F.softmax(outputs[0])[0,1]>0.5:\n",
        "    test_tokens=[i for i in df_attr.nlargest(2,'attribution').token_ids.values if i != 101 and i !=102]\n",
        "  else:\n",
        "    test_tokens=[i for i in df_attr.nsmallest(2,'attribution').token_ids.values if i != 101 and i !=102]\n",
        "  df_attr.loc[df_attr.token_ids.isin(test_tokens),'token_ids']=102\n",
        "  outputs2 = model(torch.tensor(df_attr['token_ids']).unsqueeze(0)) \n",
        "  prediction_before_repa.append(F.softmax(outputs[0]).detach().numpy()[0][1])\n",
        "  prediction_after_repa.append(F.softmax(outputs2[0]).detach().numpy()[0][1])"
      ],
      "metadata": {
        "colab": {
          "base_uri": "https://localhost:8080/"
        },
        "id": "yhYWFw6gXNEl",
        "outputId": "f36812c0-a469-49e5-ca5e-b569dff1fc0e"
      },
      "execution_count": null,
      "outputs": [
        {
          "output_type": "stream",
          "name": "stdout",
          "text": [
            "you can taste it , but there 's no fizz\n"
          ]
        },
        {
          "output_type": "stream",
          "name": "stderr",
          "text": [
            "<ipython-input-44-4d852099ee7e>:10: UserWarning: Implicit dimension choice for softmax has been deprecated. Change the call to include dim=X as an argument.\n",
            "  if F.softmax(outputs[0])[0,1]>0.5:\n",
            "<ipython-input-44-4d852099ee7e>:16: UserWarning: Implicit dimension choice for softmax has been deprecated. Change the call to include dim=X as an argument.\n",
            "  prediction_before_repa.append(F.softmax(outputs[0]).detach().numpy()[0][1])\n",
            "<ipython-input-44-4d852099ee7e>:17: UserWarning: Implicit dimension choice for softmax has been deprecated. Change the call to include dim=X as an argument.\n",
            "  prediction_after_repa.append(F.softmax(outputs2[0]).detach().numpy()[0][1])\n"
          ]
        },
        {
          "output_type": "stream",
          "name": "stdout",
          "text": [
            "a reworking of die hard and cliffhanger but it 's nowhere near as exciting as either\n",
            "a moving tale of love and destruction in unexpected places , unexamined lives\n",
            "it has more than a few moments that are insightful enough to be fondly remembered in the endlessly challenging maze of moviegoing\n",
            "why ?\n"
          ]
        }
      ]
    },
    {
      "cell_type": "code",
      "source": [
        "df_lrp = pd.DataFrame({'labels':eval[1],'pred_before':prediction_before,'pred_after':prediction_after,'pred_repa_before':prediction_before_repa,'pred_repa_after':prediction_after_repa})"
      ],
      "metadata": {
        "id": "xOlpfll9Yk-C"
      },
      "execution_count": null,
      "outputs": []
    },
    {
      "cell_type": "markdown",
      "source": [
        "# AUC Comparison"
      ],
      "metadata": {
        "id": "3FG-En9xY9_-"
      }
    },
    {
      "cell_type": "markdown",
      "source": [
        "## AUC of Model"
      ],
      "metadata": {
        "id": "l2ftGWuhZFgY"
      }
    },
    {
      "cell_type": "code",
      "source": [
        "from sklearn.metrics import roc_auc_score\n",
        "roc_auc_score(df_lrp['labels'],df_lrp['pred_before'])"
      ],
      "metadata": {
        "colab": {
          "base_uri": "https://localhost:8080/"
        },
        "id": "6KzA1hvNYtAK",
        "outputId": "4ccf831b-6299-413e-dd08-3084a9170f10"
      },
      "execution_count": null,
      "outputs": [
        {
          "output_type": "execute_result",
          "data": {
            "text/plain": [
              "1.0"
            ]
          },
          "metadata": {},
          "execution_count": 47
        }
      ]
    },
    {
      "cell_type": "markdown",
      "source": [
        "## AUC of Model after LRP"
      ],
      "metadata": {
        "id": "RFiKPm2LZMCF"
      }
    },
    {
      "cell_type": "code",
      "source": [
        "roc_auc_score(df_lrp['labels'],df_lrp['pred_after'])"
      ],
      "metadata": {
        "colab": {
          "base_uri": "https://localhost:8080/"
        },
        "id": "epByPmJGYv1b",
        "outputId": "ed207db4-a33b-49d4-be87-20510023a3cc"
      },
      "execution_count": null,
      "outputs": [
        {
          "output_type": "execute_result",
          "data": {
            "text/plain": [
              "0.33333333333333337"
            ]
          },
          "metadata": {},
          "execution_count": 48
        }
      ]
    },
    {
      "cell_type": "markdown",
      "source": [
        "## AUC of Model after RePAGrad"
      ],
      "metadata": {
        "id": "LFvYRqaKZVyT"
      }
    },
    {
      "cell_type": "code",
      "source": [
        "roc_auc_score(df_lrp['labels'],df_lrp['pred_repa_after'])"
      ],
      "metadata": {
        "colab": {
          "base_uri": "https://localhost:8080/"
        },
        "id": "pszyleLpY2hV",
        "outputId": "cb6fa110-8fa4-42e6-8d53-28768411f5d1"
      },
      "execution_count": null,
      "outputs": [
        {
          "output_type": "execute_result",
          "data": {
            "text/plain": [
              "0.0"
            ]
          },
          "metadata": {},
          "execution_count": 49
        }
      ]
    },
    {
      "cell_type": "code",
      "source": [],
      "metadata": {
        "id": "UgbJET_DY5P2"
      },
      "execution_count": null,
      "outputs": []
    },
    {
      "cell_type": "markdown",
      "source": [
        "## Comparison Between LRP and RePAGrad (Log Odds Score)"
      ],
      "metadata": {
        "id": "w0kNIE3YZieO"
      }
    },
    {
      "cell_type": "markdown",
      "source": [
        "### Error With RePAGRad"
      ],
      "metadata": {
        "id": "WeVr_oHaZ1rn"
      }
    },
    {
      "cell_type": "code",
      "source": [
        "import numpy as np\n",
        "np.mean(np.abs((-np.log(df_lrp['pred_repa_before']))-(-np.log(df_lrp['pred_repa_after']))))"
      ],
      "metadata": {
        "colab": {
          "base_uri": "https://localhost:8080/"
        },
        "id": "kFLMyGf8Zn3E",
        "outputId": "f7e0a973-46d9-4a48-cde4-6a5d5c88fd0f"
      },
      "execution_count": null,
      "outputs": [
        {
          "output_type": "execute_result",
          "data": {
            "text/plain": [
              "0.00216861"
            ]
          },
          "metadata": {},
          "execution_count": 51
        }
      ]
    },
    {
      "cell_type": "markdown",
      "source": [
        "### Error With LRP"
      ],
      "metadata": {
        "id": "nbiLGxK2Z_M-"
      }
    },
    {
      "cell_type": "code",
      "source": [
        "np.mean(np.abs((-np.log(df_lrp['pred_before']))-(-np.log(df_lrp['pred_after']))))"
      ],
      "metadata": {
        "colab": {
          "base_uri": "https://localhost:8080/"
        },
        "id": "Ss0J2dMYZpQH",
        "outputId": "b6aad845-1dd8-446c-b491-8fa3bb96b898"
      },
      "execution_count": null,
      "outputs": [
        {
          "output_type": "execute_result",
          "data": {
            "text/plain": [
              "0.0023586676"
            ]
          },
          "metadata": {},
          "execution_count": 52
        }
      ]
    },
    {
      "cell_type": "markdown",
      "source": [
        "## Comparison Between LRP and RePAGrad (Comprehensiveness)"
      ],
      "metadata": {
        "id": "R0zhZbnKaRqL"
      }
    },
    {
      "cell_type": "markdown",
      "source": [
        "### Error With RePAGRad"
      ],
      "metadata": {
        "id": "5CtcS8WMaXBL"
      }
    },
    {
      "cell_type": "code",
      "source": [
        "import numpy as np\n",
        "np.mean(np.abs(df_lrp['pred_repa_before'] - df_lrp['pred_repa_after']))"
      ],
      "metadata": {
        "colab": {
          "base_uri": "https://localhost:8080/"
        },
        "outputId": "21fa6cf3-0888-47df-e1fc-470edeb78338",
        "id": "jvLsSPmtaXBM"
      },
      "execution_count": null,
      "outputs": [
        {
          "output_type": "execute_result",
          "data": {
            "text/plain": [
              "0.0021487593"
            ]
          },
          "metadata": {},
          "execution_count": 53
        }
      ]
    },
    {
      "cell_type": "markdown",
      "source": [
        "### Error With LRP"
      ],
      "metadata": {
        "id": "DtyC5LGGaXBM"
      }
    },
    {
      "cell_type": "code",
      "source": [
        "np.mean(np.abs(df_lrp['pred_before'] - df_lrp['pred_after']))"
      ],
      "metadata": {
        "colab": {
          "base_uri": "https://localhost:8080/"
        },
        "outputId": "5af66b36-92f4-4b00-e0ec-885159689cf1",
        "id": "JC2LZs5YaXBN"
      },
      "execution_count": null,
      "outputs": [
        {
          "output_type": "execute_result",
          "data": {
            "text/plain": [
              "0.0023347258"
            ]
          },
          "metadata": {},
          "execution_count": 54
        }
      ]
    },
    {
      "cell_type": "code",
      "source": [],
      "metadata": {
        "id": "J_7xS4aDadGr"
      },
      "execution_count": null,
      "outputs": []
    }
  ]
}